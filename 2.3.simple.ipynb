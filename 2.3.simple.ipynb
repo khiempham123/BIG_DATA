{
 "cells": [
  {
   "cell_type": "markdown",
   "id": "7d04790c",
   "metadata": {},
   "source": [
    "### Khai báo thư viện\n"
   ]
  },
  {
   "cell_type": "code",
   "execution_count": null,
   "id": "af30d66f",
   "metadata": {},
   "outputs": [],
   "source": [
    "from pyspark.sql import SparkSession\n",
    "from pyspark.sql.functions import col, posexplode, struct, expr, collect_list, array_sort"
   ]
  },
  {
   "cell_type": "markdown",
   "id": "5efbd9bb",
   "metadata": {},
   "source": [
    "### Khởi tạo SparkSession\n"
   ]
  },
  {
   "cell_type": "code",
   "execution_count": 26,
   "id": "ab28bf22",
   "metadata": {},
   "outputs": [],
   "source": [
    "spark = SparkSession.builder \\\n",
    "    .appName(\"Polygon Overlap Detection Structured\") \\\n",
    "    .master(\"local[*]\") \\\n",
    "    .config(\"spark.driver.bindAddress\", \"127.0.0.1\") \\\n",
    "    .getOrCreate()"
   ]
  },
  {
   "cell_type": "markdown",
   "id": "69a7b966",
   "metadata": {},
   "source": [
    "### Đọc dữ liệu\n"
   ]
  },
  {
   "cell_type": "code",
   "execution_count": 27,
   "id": "a04d203b",
   "metadata": {},
   "outputs": [],
   "source": [
    "df = spark.read.parquet(\"shapes.parquet\")"
   ]
  },
  {
   "cell_type": "markdown",
   "id": "523e1c0c",
   "metadata": {},
   "source": [
    "### Chuẩn hoá định dạng\n"
   ]
  },
  {
   "cell_type": "code",
   "execution_count": 28,
   "id": "263dbbbe",
   "metadata": {},
   "outputs": [],
   "source": [
    "exploded = df.select(\n",
    "    col(\"shape_id\"),\n",
    "    posexplode(\"vertices\").alias(\"index\", \"point\")\n",
    ")"
   ]
  },
  {
   "cell_type": "markdown",
   "id": "5c783a32",
   "metadata": {},
   "source": [
    "### Tách x, y từ điểm\n"
   ]
  },
  {
   "cell_type": "code",
   "execution_count": 29,
   "id": "8d71ab58",
   "metadata": {},
   "outputs": [],
   "source": [
    "df_points = exploded.select(\n",
    "    \"shape_id\", \"index\",\n",
    "    col(\"point\")[0].alias(\"x\"),\n",
    "    col(\"point\")[1].alias(\"y\")\n",
    ")"
   ]
  },
  {
   "cell_type": "markdown",
   "id": "d63bc9fc",
   "metadata": {},
   "source": [
    "### Sắp xếp lại các điểm x, y\n"
   ]
  },
  {
   "cell_type": "code",
   "execution_count": 30,
   "id": "bee1db55",
   "metadata": {},
   "outputs": [],
   "source": [
    "sorted_points = df_points.groupBy(\"shape_id\") \\\n",
    "    .agg(array_sort(collect_list(struct(\"x\", \"y\"))).alias(\"sorted_points\"))"
   ]
  },
  {
   "cell_type": "markdown",
   "id": "70996bfd",
   "metadata": {},
   "source": [
    "### Tính hộp bao cho mỗi hình\n"
   ]
  },
  {
   "cell_type": "code",
   "execution_count": 31,
   "id": "ebdecfb8",
   "metadata": {},
   "outputs": [],
   "source": [
    "bounding_boxes = df_points.groupBy(\"shape_id\").agg(\n",
    "    expr(\"min(x)\").alias(\"min_x\"),\n",
    "    expr(\"max(x)\").alias(\"max_x\"),\n",
    "    expr(\"min(y)\").alias(\"min_y\"),\n",
    "    expr(\"max(y)\").alias(\"max_y\")\n",
    ")"
   ]
  },
  {
   "cell_type": "markdown",
   "id": "84609d5a",
   "metadata": {},
   "source": [
    "### Ghép các hình theo thứ tự\n"
   ]
  },
  {
   "cell_type": "code",
   "execution_count": 32,
   "id": "c244e577",
   "metadata": {},
   "outputs": [],
   "source": [
    "\n",
    "bbox_a = bounding_boxes.alias(\"a\")\n",
    "bbox_b = bounding_boxes.alias(\"b\")\n",
    "pairs = bbox_a.crossJoin(bbox_b) \\\n",
    "    .filter(expr(\"a.shape_id < b.shape_id\"))"
   ]
  },
  {
   "cell_type": "markdown",
   "id": "c356438b",
   "metadata": {},
   "source": [
    "### Kiểm tra chồng lắp bằng hộp bao\n"
   ]
  },
  {
   "cell_type": "code",
   "execution_count": 33,
   "id": "e50be737",
   "metadata": {},
   "outputs": [],
   "source": [
    "pairs_overlap = pairs.filter(\n",
    "    (col(\"a.max_x\") > col(\"b.min_x\")) &\n",
    "    (col(\"a.min_x\") < col(\"b.max_x\")) &\n",
    "    (col(\"a.max_y\") > col(\"b.min_y\")) &\n",
    "    (col(\"a.min_y\") < col(\"b.max_y\"))\n",
    ")"
   ]
  },
  {
   "cell_type": "markdown",
   "id": "2550566e",
   "metadata": {},
   "source": [
    "### Xuất kết quả\n"
   ]
  },
  {
   "cell_type": "code",
   "execution_count": 34,
   "id": "9beb3eea",
   "metadata": {},
   "outputs": [],
   "source": [
    "result_df = pairs_overlap.select(col(\"a.shape_id\").alias(\"shape_1\"), col(\"b.shape_id\").alias(\"shape_2\"))"
   ]
  },
  {
   "cell_type": "markdown",
   "id": "0612425e",
   "metadata": {},
   "source": [
    "### Sắp xếp theo thứ tự\n"
   ]
  },
  {
   "cell_type": "code",
   "execution_count": 35,
   "id": "5f4ea5a4",
   "metadata": {},
   "outputs": [],
   "source": [
    "result_df = result_df.withColumn(\"s1_num\", expr(\"int(split(shape_1, '_')[1])\")) \\\n",
    "                     .withColumn(\"s2_num\", expr(\"int(split(shape_2, '_')[1])\")) \\\n",
    "                     .orderBy(\"s1_num\", \"s2_num\") \\\n",
    "                     .select(\"shape_1\", \"shape_2\")"
   ]
  },
  {
   "cell_type": "markdown",
   "id": "04a3e031",
   "metadata": {},
   "source": [
    "### Lưu ra CSV không có header\n"
   ]
  },
  {
   "cell_type": "code",
   "execution_count": 36,
   "id": "d43de82e",
   "metadata": {},
   "outputs": [],
   "source": [
    "result_df.write.mode(\"overwrite\").csv(\"output_folder\", header=False)"
   ]
  }
 ],
 "metadata": {
  "kernelspec": {
   "display_name": "pyspark_env",
   "language": "python",
   "name": "python3"
  },
  "language_info": {
   "codemirror_mode": {
    "name": "ipython",
    "version": 3
   },
   "file_extension": ".py",
   "mimetype": "text/x-python",
   "name": "python",
   "nbconvert_exporter": "python",
   "pygments_lexer": "ipython3",
   "version": "3.12.9"
  }
 },
 "nbformat": 4,
 "nbformat_minor": 5
}
