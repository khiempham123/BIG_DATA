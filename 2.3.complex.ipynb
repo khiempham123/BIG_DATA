{
 "cells": [
  {
   "cell_type": "markdown",
   "metadata": {},
   "source": [
    "# Bài 2.3\n"
   ]
  },
  {
   "cell_type": "markdown",
   "metadata": {},
   "source": [
    "### Khai báo thư viện\n"
   ]
  },
  {
   "cell_type": "code",
   "execution_count": 1,
   "metadata": {},
   "outputs": [],
   "source": [
    "from pyspark.sql import SparkSession\n",
    "import numpy as np"
   ]
  },
  {
   "cell_type": "markdown",
   "metadata": {},
   "source": [
    "### Hàm tính tích có hướng hai vector\n"
   ]
  },
  {
   "cell_type": "code",
   "execution_count": 2,
   "metadata": {},
   "outputs": [],
   "source": [
    "def cross(o, a, b):\n",
    "    return (a[0] - o[0]) * (b[1] - o[1]) - (a[1] - o[1]) * (b[0] - o[0])"
   ]
  },
  {
   "cell_type": "markdown",
   "metadata": {},
   "source": [
    "### Hàm tìm bao lồi dựa vào thuật toán Monotone Chain\n"
   ]
  },
  {
   "cell_type": "code",
   "execution_count": 3,
   "metadata": {},
   "outputs": [],
   "source": [
    "def convex_hull(points):\n",
    "    valid_points = [tuple(p) for p in points if p is not None and len(p) == 2 and None not in p]\n",
    "    if len(valid_points) < 3:\n",
    "        return []\n",
    "\n",
    "    points = sorted(valid_points)\n",
    "    lower = []\n",
    "    for p in points:\n",
    "        while len(lower) >= 2 and cross(lower[-2], lower[-1], p) <= 0:\n",
    "            lower.pop()\n",
    "        lower.append(p)\n",
    "\n",
    "    upper = []\n",
    "    for p in reversed(points):\n",
    "        while len(upper) >= 2 and cross(upper[-2], upper[-1], p) <= 0:\n",
    "            upper.pop()\n",
    "        upper.append(p)\n",
    "\n",
    "    return lower[:-1] + upper[:-1]"
   ]
  },
  {
   "cell_type": "markdown",
   "metadata": {},
   "source": [
    "### Hàm kiểm tra một điểm có nằm trong đa giác không?\n"
   ]
  },
  {
   "cell_type": "code",
   "execution_count": 4,
   "metadata": {},
   "outputs": [],
   "source": [
    "def is_point_in_polygon(point, polygon):\n",
    "    x, y = point\n",
    "    inside = False\n",
    "    n = len(polygon)\n",
    "    if n < 3:\n",
    "        return False\n",
    "\n",
    "    p1x, p1y = polygon[0]\n",
    "    for i in range(1, n + 1):\n",
    "        p2x, p2y = polygon[i % n]\n",
    "        if y > min(p1y, p2y) and y <= max(p1y, p2y):\n",
    "            if x < max(p1x, p2x):\n",
    "                if p1y != p2y:\n",
    "                    xinters = (y - p1y) * (p2x - p1x) / (p2y - p1y) + p1x\n",
    "                if p1x == p2x  or x < xinters:\n",
    "                    inside = not inside\n",
    "        p1x, p1y = p2x, p2y\n",
    "    return inside"
   ]
  },
  {
   "cell_type": "markdown",
   "metadata": {},
   "source": [
    "### Hàm kiểm tra hai đoạn thẳng có cắt nhau không?\n"
   ]
  },
  {
   "cell_type": "code",
   "execution_count": 5,
   "metadata": {},
   "outputs": [],
   "source": [
    "def edges_intersect(p1, p2, q1, q2):\n",
    "    def ccw(a, b, c):\n",
    "        return (c[1]-a[1]) * (b[0]-a[0]) > (b[1]-a[1]) * (c[0]-a[0])\n",
    "    \n",
    "    return (ccw(p1, q1, q2) != ccw(p2, q1, q2)) and (ccw(p1, p2, q1) != ccw(p1, p2, q2))"
   ]
  },
  {
   "cell_type": "markdown",
   "metadata": {},
   "source": [
    "### Hàm kiểm tra điểm có nằm trên đoạn thẳng không?\n"
   ]
  },
  {
   "cell_type": "code",
   "execution_count": 6,
   "metadata": {},
   "outputs": [],
   "source": [
    "def is_point_on_segment(p, a, b):\n",
    "    cross = (b[0] - a[0]) * (p[1] - a[1]) - (b[1] - a[1]) * (p[0] - a[0])\n",
    "    if abs(cross) > 1e-10:\n",
    "        return False\n",
    "    dot = (p[0] - a[0]) * (b[0] - a[0]) + (p[1] - a[1]) * (b[1] - a[1])\n",
    "    if dot < 0:\n",
    "        return False\n",
    "    squared_len = (b[0] - a[0]) ** 2 + (b[1] - a[1]) ** 2\n",
    "    return dot <= squared_len"
   ]
  },
  {
   "cell_type": "markdown",
   "metadata": {},
   "source": [
    "### Hàm kiểm tra điểm có nằm trong đa giác không?\n"
   ]
  },
  {
   "cell_type": "code",
   "execution_count": 7,
   "metadata": {},
   "outputs": [],
   "source": [
    "def is_point_in_polygon(point, polygon, strict=True):\n",
    "    x, y = point\n",
    "    inside = False\n",
    "    n = len(polygon)\n",
    "    if n < 3:\n",
    "        return False\n",
    "\n",
    "    for i in range(n):\n",
    "        j = (i + 1) % n\n",
    "        xi, yi = polygon[i]\n",
    "        xj, yj = polygon[j]\n",
    "\n",
    "        # Nếu nằm trên cạnh\n",
    "        if is_point_on_segment(point, (xi, yi), (xj, yj)):\n",
    "            return not strict\n",
    "\n",
    "        if (yi > y) != (yj > y):\n",
    "            xinters = (y - yi) * (xj - xi) / (yj - yi + 1e-10) + xi\n",
    "            if x < xinters:\n",
    "                inside = not inside\n",
    "\n",
    "    return inside"
   ]
  },
  {
   "cell_type": "markdown",
   "metadata": {},
   "source": [
    "### Hàm kiểm tra trùng lắp giữa hai tập bao lồi\n"
   ]
  },
  {
   "cell_type": "code",
   "execution_count": 8,
   "metadata": {},
   "outputs": [],
   "source": [
    "def check_overlap(hull1, hull2):\n",
    "    if len(hull1) < 3 or len(hull2) < 3:\n",
    "        return False\n",
    "\n",
    "    for p in hull1:\n",
    "        if is_point_in_polygon(p, hull2):\n",
    "            return True\n",
    "    for p in hull2:\n",
    "        if is_point_in_polygon(p, hull1):\n",
    "            return True\n",
    "\n",
    "    for i in range(len(hull1)):\n",
    "        for j in range(len(hull2)):\n",
    "            if edges_intersect(hull1[i], hull1[(i+1)%len(hull1)], hull2[j], hull2[(j+1)%len(hull2)]):\n",
    "                return True\n",
    "\n",
    "    return False"
   ]
  },
  {
   "cell_type": "markdown",
   "metadata": {},
   "source": [
    "### Hàm kiểm tra trùng lắp giữa hai hình\n"
   ]
  },
  {
   "cell_type": "code",
   "execution_count": 9,
   "metadata": {},
   "outputs": [],
   "source": [
    "def is_overlap(poly1, poly2):\n",
    "    hull1 = convex_hull(poly1)\n",
    "    hull2 = convex_hull(poly2)\n",
    "    return check_overlap(hull1, hull2)"
   ]
  },
  {
   "cell_type": "markdown",
   "metadata": {},
   "source": [
    "### Khởi tạo một phiên làm việc Spark\n"
   ]
  },
  {
   "cell_type": "code",
   "execution_count": 10,
   "metadata": {},
   "outputs": [
    {
     "name": "stderr",
     "output_type": "stream",
     "text": [
      "25/04/09 11:50:34 WARN Utils: Your hostname, MacBook-Pro-cua-Nguyen-3.local resolves to a loopback address: 127.0.0.1; using 10.14.176.48 instead (on interface en0)\n",
      "25/04/09 11:50:34 WARN Utils: Set SPARK_LOCAL_IP if you need to bind to another address\n",
      "Setting default log level to \"WARN\".\n",
      "To adjust logging level use sc.setLogLevel(newLevel). For SparkR, use setLogLevel(newLevel).\n",
      "25/04/09 11:50:35 WARN NativeCodeLoader: Unable to load native-hadoop library for your platform... using builtin-java classes where applicable\n"
     ]
    }
   ],
   "source": [
    "spark = SparkSession.builder \\\n",
    "    .appName(\"Polygon Overlap Detection\") \\\n",
    "    .master(\"local[*]\") \\\n",
    "    .config(\"spark.driver.bindAddress\", \"127.0.0.1\") \\\n",
    "    .getOrCreate()"
   ]
  },
  {
   "cell_type": "markdown",
   "metadata": {},
   "source": [
    "### Đọc dữ liệu từ tập đầu vào\n"
   ]
  },
  {
   "cell_type": "code",
   "execution_count": 11,
   "metadata": {},
   "outputs": [],
   "source": [
    "# Đọc file shapes.parquet\n",
    "df = spark.read.parquet(\"shapes.parquet\")\n",
    "\n",
    "# Chuyển về RDD [(shape_id, vertices)]\n",
    "shapes_rdd = df.rdd.map(lambda row: (row['shape_id'], np.array(row['vertices'], dtype=np.float64)))"
   ]
  },
  {
   "cell_type": "markdown",
   "metadata": {},
   "source": [
    "### Sinh các cặp hình không trùng nhau\n"
   ]
  },
  {
   "cell_type": "code",
   "execution_count": 12,
   "metadata": {},
   "outputs": [],
   "source": [
    "pairs_rdd = shapes_rdd.cartesian(shapes_rdd).filter(lambda x: x[0][0] < x[1][0]) "
   ]
  },
  {
   "cell_type": "markdown",
   "metadata": {},
   "source": [
    "### Kiểm tra trùng lắp giữa các cặp hình\n"
   ]
  },
  {
   "cell_type": "code",
   "execution_count": 13,
   "metadata": {},
   "outputs": [],
   "source": [
    "overlapping_pairs = pairs_rdd.filter(lambda x: is_overlap(x[0][1], x[1][1]))"
   ]
  },
  {
   "cell_type": "markdown",
   "metadata": {},
   "source": [
    "### Sắp xếp bảng dữ liệu\n"
   ]
  },
  {
   "cell_type": "code",
   "execution_count": 14,
   "metadata": {},
   "outputs": [],
   "source": [
    "def extract_number(shape_name):\n",
    "    return int(shape_name.split(\"_\")[1])\n",
    "\n",
    "result = overlapping_pairs.map(lambda x: (x[0][0], x[1][0]))\n",
    "\n",
    "sorted_result = result.sortBy(lambda x: (extract_number(x[0]), extract_number(x[1])))"
   ]
  },
  {
   "cell_type": "markdown",
   "metadata": {},
   "source": [
    "### Lưu lại kết quả\n"
   ]
  },
  {
   "cell_type": "code",
   "execution_count": null,
   "metadata": {},
   "outputs": [],
   "source": [
    "# RDD -> chuỗi CSV: \"shape_1,shape_2\"\n",
    "rdd_csv_lines = sorted_result.map(lambda x: f\"{x[0]},{x[1]}\")\n",
    "rdd_csv_lines.coalesce(1).saveAsTextFile(\"output_folder\")"
   ]
  }
 ],
 "metadata": {
  "kernelspec": {
   "display_name": "Python 3",
   "language": "python",
   "name": "python3"
  },
  "language_info": {
   "codemirror_mode": {
    "name": "ipython",
    "version": 3
   },
   "file_extension": ".py",
   "mimetype": "text/x-python",
   "name": "python",
   "nbconvert_exporter": "python",
   "pygments_lexer": "ipython3",
   "version": "3.12.2"
  }
 },
 "nbformat": 4,
 "nbformat_minor": 2
}
